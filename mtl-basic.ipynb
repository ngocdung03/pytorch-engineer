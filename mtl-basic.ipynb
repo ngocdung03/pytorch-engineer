{
 "cells": [
  {
   "cell_type": "code",
   "execution_count": 2,
   "metadata": {},
   "outputs": [],
   "source": [
    "import math\n",
    "import pylab #?\n",
    "import numpy as np\n",
    "\n",
    "import torch\n",
    "import torch.nn as nn\n",
    "from torch.utils.data import Dataset, DataLoader\n",
    "\n",
    "def gen_data(N):\n",
    "    x = np.random.randn(N, 1)\n",
    "    w1 = 2\n",
    "    b1 = 8\n",
    "    sigma1 = 1e1 # ground truth\n",
    "    y1 = x.dot(w1) + b1 + sigma1 * np.random.randn(N, 1)\n",
    "    w2 = 3\n",
    "    b2 = 3\n",
    "    sigma2 = 1e0 # ground truth\n",
    "    y2 = x.dot(w2) + b2 + sigma2 * np.random.randn(N, 1)\n",
    "    return x, y1, y2\n",
    "\n",
    "class TrainData(Dataset):\n",
    "    def __init__(self, feature_num, x, y1, y2):\n",
    "        self.feature_num = feature_num\n",
    "        self.x = torch.tensor(x, dtype = torch.float32)\n",
    "        self.y1 = torch.tensor(y1, dtype= torch.float32)\n",
    "        self.y2 = torch.tensor(y2, dtype=torch.float32)\n",
    "    \n",
    "    def __len__(self):\n",
    "        return self.feature_num\n",
    "    \n",
    "    def __getitem__(self, idx):\n",
    "        return self.x[idx,:], self.y1[idx,:], self.y2[idx, :]\n",
    "    \n",
    "class MultiTaskLossWrapper(nn.Module):\n",
    "    def __init__(self, task_num, model):\n",
    "        super(MultiTaskLossWrapper, self).__init__()\n",
    "        self.model = model\n",
    "        self.task_num = task_num\n",
    "        self.log_vars = nn.Parameter(torch.zeros((task_num)))  #?\n",
    "        \n",
    "    def forward(self, input, targets):\n",
    "        outputs = self.model(input)\n",
    "        \n",
    "        precision1 = torch.exp(-self.log_vars[0])\n",
    "        loss = torch.sum(precision1 * (targets[0] - outputs[0])**2. + self.log_vars[0], -1)\n",
    "        \n",
    "        precision2 = torch.exp(-self.log_vars[1])\n",
    "        loss += torch.sum(precision2 * (targets[1] - outputs[1])**2. + self.log_vars[1], -1)\n",
    "    \n",
    "        loss = torch.mean(loss)\n",
    "\n",
    "        return loss, self.log_vars.data.tolist()\n",
    "    \n",
    "class MTLModel(nn.Module):\n",
    "    def __init__(self, n_hidden, n_output):\n",
    "        super(MTLModel, self).__init__()\n",
    "        \n",
    "        self.net1 = nn.Sequential(nn.Linear(1, n_hidden), nn.ReLU(), nn.Linear(n_hidden, n_output))\n",
    "        self.net2 = nn.Sequential(nn.Linear(1, n_hidden), nn.ReLU(), nn.Linear(n_hidden, n_output))\n",
    "        \n",
    "    def forward(self, x):\n",
    "        return [self.net1(x), self.net2(x)]\n",
    "    \n",
    "    "
   ]
  },
  {
   "cell_type": "code",
   "execution_count": 4,
   "metadata": {},
   "outputs": [
    {
     "name": "stdout",
     "output_type": "stream",
     "text": [
      "Parameter containing:\n",
      "tensor([0., 0.], requires_grad=True)\n",
      "tensor(1., grad_fn=<ExpBackward0>)\n"
     ]
    }
   ],
   "source": [
    "log_vars = nn.Parameter(torch.zeros((2))) \n",
    "precision1 = torch.exp(-log_vars[0])\n",
    "print(log_vars)\n",
    "print(precision1)"
   ]
  },
  {
   "cell_type": "code",
   "execution_count": 6,
   "metadata": {},
   "outputs": [
    {
     "data": {
      "image/png": "[encoded data removed]",
      "text/plain": [
       "<Figure size 216x108 with 1 Axes>"
      ]
     },
     "metadata": {
      "needs_background": "light"
     },
     "output_type": "display_data"
    }
   ],
   "source": [
    "np.random.seed(0)\n",
    "\n",
    "feature_num = 100\n",
    "nb_epoch = 2000\n",
    "batch_size = 20\n",
    "hidden_dim = 1024\n",
    "\n",
    "x, y1, y2 = gen_data(feature_num)\n",
    "pylab.figure(figsize=(3, 1.5))\n",
    "pylab.scatter(x[:,0], y1[:,0])\n",
    "pylab.scatter(x[:,0], y2[:,0])\n",
    "pylab.show()"
   ]
  },
  {
   "cell_type": "code",
   "execution_count": 7,
   "metadata": {},
   "outputs": [],
   "source": [
    "train_data = TrainData(feature_num, x, y1, y2)\n",
    "train_data_loader = DataLoader(train_data, shuffle=True, batch_size=batch_size)\n",
    "\n",
    "model = MTLModel(hidden_dim, 1)\n",
    "\n",
    "mt1 = MultiTaskLossWrapper(2, model)\n",
    "mt1\n",
    "\n",
    "optimizer = torch.optim.Adam(mt1.parameters(), lr=0.001, eps=1e-07)\n",
    "\n",
    "loss_list = []\n",
    "for t in range(nb_epoch):\n",
    "    cumulative_loss = 0\n",
    "    for x, y1, y2 in train_data_loader:\n",
    "        loss, log_vars = mt1(x, [y1, y2])\n",
    "        # print(loss)\n",
    "        # print(log_vars)\n",
    "        optimizer.zero_grad()\n",
    "        loss.backward()\n",
    "        optimizer.step()\n",
    "        \n",
    "        cumulative_loss += loss.item()\n",
    "        \n",
    "    loss_list.append(cumulative_loss/batch_size)\n",
    "    \n",
    "    "
   ]
  },
  {
   "cell_type": "code",
   "execution_count": 10,
   "metadata": {},
   "outputs": [
    {
     "name": "stdout",
     "output_type": "stream",
     "text": [
      "Parameter containing:\n",
      "tensor([ 4.2985, -0.1988], requires_grad=True)\n",
      "tensor(0.0136, grad_fn=<ExpBackward0>)\n"
     ]
    }
   ],
   "source": [
    "\n",
    "precision1 = torch.exp(-mt1.log_vars[0])\n",
    "print(mt1.log_vars)\n",
    "print(precision1)"
   ]
  },
  {
   "cell_type": "code",
   "execution_count": 13,
   "metadata": {},
   "outputs": [
    {
     "data": {
      "image/png": "[encoded data removed]",
      "text/plain": [
       "<Figure size 432x288 with 1 Axes>"
      ]
     },
     "metadata": {
      "needs_background": "light"
     },
     "output_type": "display_data"
    }
   ],
   "source": [
    "pylab.plot(loss_list)\n",
    "pylab.show()"
   ]
  },
  {
   "cell_type": "code",
   "execution_count": 14,
   "metadata": {},
   "outputs": [
    {
     "name": "stdout",
     "output_type": "stream",
     "text": [
      "[4.296741485595703, -0.202528715133667]\n"
     ]
    }
   ],
   "source": [
    "print(log_vars)\n"
   ]
  },
  {
   "cell_type": "code",
   "execution_count": 15,
   "metadata": {},
   "outputs": [
    {
     "name": "stdout",
     "output_type": "stream",
     "text": [
      "[8.570882842782678, 0.903694102931572]\n"
     ]
    }
   ],
   "source": [
    "# Found standard deviations (ground truth is 10 and 1)\n",
    "print([math.exp(log_var)**0.5 for log_var in log_vars])"
   ]
  },
  {
   "cell_type": "code",
   "execution_count": null,
   "metadata": {},
   "outputs": [],
   "source": []
  }
 ],
 "metadata": {
  "interpreter": {
   "hash": "9e2b3cd2829f09aa4cbce26e91031c8f0c76a211d73914c4bed7f6ce2202e3c6"
  },
  "kernelspec": {
   "display_name": "Python 3.7.11",
   "language": "python",
   "name": "python3"
  },
  "language_info": {
   "codemirror_mode": {
    "name": "ipython",
    "version": 3
   },
   "file_extension": ".py",
   "mimetype": "text/x-python",
   "name": "python",
   "nbconvert_exporter": "python",
   "pygments_lexer": "ipython3",
   "version": "3.7.11"
  },
  "orig_nbformat": 4
 },
 "nbformat": 4,
 "nbformat_minor": 2
}

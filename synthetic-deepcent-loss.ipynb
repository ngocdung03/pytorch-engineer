{
 "cells": [
  {
   "cell_type": "code",
   "execution_count": 1,
   "metadata": {},
   "outputs": [],
   "source": [
    "import os\n",
    "os.environ['CUDA_VISIBLE_DEVICES']=\"0\""
   ]
  },
  {
   "cell_type": "code",
   "execution_count": 2,
   "metadata": {},
   "outputs": [],
   "source": [
    "# from __future__ import print_function\n",
    "# import argparse\n",
    "import torch\n",
    "import torch.utils.data\n",
    "import torch.nn as nn \n",
    "import torch.optim as optim\n",
    "from torch.autograd import Variable  # change later\n",
    "from torchvision import datasets, transforms\n",
    "import pandas as pd\n",
    "import numpy as np\n",
    "from matplotlib import pyplot as plt \n",
    "from torch.nn.parameter import Parameter # ?\n",
    "\n",
    "from functools import reduce\n",
    "from torch.utils.data import DataLoader, TensorDataset\n"
   ]
  },
  {
   "cell_type": "code",
   "execution_count": 3,
   "metadata": {},
   "outputs": [
    {
     "data": {
      "text/plain": [
       "device(type='cuda')"
      ]
     },
     "execution_count": 3,
     "metadata": {},
     "output_type": "execute_result"
    }
   ],
   "source": [
    "device = torch.device(\"cuda\" if torch.cuda.is_available() else \"cpu\")\n",
    "device"
   ]
  },
  {
   "cell_type": "markdown",
   "metadata": {},
   "source": [
    "##### Dataset"
   ]
  },
  {
   "cell_type": "code",
   "execution_count": 4,
   "metadata": {},
   "outputs": [
    {
     "data": {
      "text/html": [
       "<div>\n",
       "<style scoped>\n",
       "    .dataframe tbody tr th:only-of-type {\n",
       "        vertical-align: middle;\n",
       "    }\n",
       "\n",
       "    .dataframe tbody tr th {\n",
       "        vertical-align: top;\n",
       "    }\n",
       "\n",
       "    .dataframe thead th {\n",
       "        text-align: right;\n",
       "    }\n",
       "</style>\n",
       "<table border=\"1\" class=\"dataframe\">\n",
       "  <thead>\n",
       "    <tr style=\"text-align: right;\">\n",
       "      <th></th>\n",
       "      <th>time</th>\n",
       "      <th>label</th>\n",
       "      <th>feature1</th>\n",
       "      <th>feature2</th>\n",
       "      <th>feature3</th>\n",
       "      <th>feature4</th>\n",
       "      <th>feature5</th>\n",
       "      <th>feature6</th>\n",
       "      <th>feature7</th>\n",
       "      <th>feature8</th>\n",
       "      <th>feature9</th>\n",
       "      <th>feature10</th>\n",
       "      <th>feature11</th>\n",
       "      <th>feature12</th>\n",
       "    </tr>\n",
       "  </thead>\n",
       "  <tbody>\n",
       "    <tr>\n",
       "      <th>0</th>\n",
       "      <td>0</td>\n",
       "      <td>0</td>\n",
       "      <td>-0.440500</td>\n",
       "      <td>-0.035066</td>\n",
       "      <td>-0.025341</td>\n",
       "      <td>-0.029775</td>\n",
       "      <td>-0.55787</td>\n",
       "      <td>-0.15355</td>\n",
       "      <td>0.56819</td>\n",
       "      <td>-0.15432</td>\n",
       "      <td>-0.250230</td>\n",
       "      <td>0.33915</td>\n",
       "      <td>0.70388</td>\n",
       "      <td>0.28174</td>\n",
       "    </tr>\n",
       "    <tr>\n",
       "      <th>1</th>\n",
       "      <td>1</td>\n",
       "      <td>0</td>\n",
       "      <td>0.015579</td>\n",
       "      <td>-0.846080</td>\n",
       "      <td>0.487530</td>\n",
       "      <td>0.651930</td>\n",
       "      <td>0.20099</td>\n",
       "      <td>-0.11238</td>\n",
       "      <td>-1.39630</td>\n",
       "      <td>-0.18874</td>\n",
       "      <td>-0.300010</td>\n",
       "      <td>-0.24032</td>\n",
       "      <td>-0.38533</td>\n",
       "      <td>-1.02450</td>\n",
       "    </tr>\n",
       "    <tr>\n",
       "      <th>2</th>\n",
       "      <td>34</td>\n",
       "      <td>2</td>\n",
       "      <td>0.446490</td>\n",
       "      <td>1.641000</td>\n",
       "      <td>-1.745000</td>\n",
       "      <td>0.317950</td>\n",
       "      <td>-1.14060</td>\n",
       "      <td>0.36560</td>\n",
       "      <td>0.28110</td>\n",
       "      <td>-0.58253</td>\n",
       "      <td>-1.690700</td>\n",
       "      <td>1.20220</td>\n",
       "      <td>-0.51920</td>\n",
       "      <td>1.78400</td>\n",
       "    </tr>\n",
       "    <tr>\n",
       "      <th>3</th>\n",
       "      <td>9</td>\n",
       "      <td>0</td>\n",
       "      <td>0.629460</td>\n",
       "      <td>-0.615750</td>\n",
       "      <td>-0.323450</td>\n",
       "      <td>-0.900200</td>\n",
       "      <td>0.45360</td>\n",
       "      <td>-0.61992</td>\n",
       "      <td>2.16240</td>\n",
       "      <td>0.19875</td>\n",
       "      <td>-1.119600</td>\n",
       "      <td>-2.73210</td>\n",
       "      <td>-0.25673</td>\n",
       "      <td>-0.81836</td>\n",
       "    </tr>\n",
       "    <tr>\n",
       "      <th>4</th>\n",
       "      <td>2</td>\n",
       "      <td>0</td>\n",
       "      <td>1.249800</td>\n",
       "      <td>-0.185610</td>\n",
       "      <td>-0.183780</td>\n",
       "      <td>-0.981080</td>\n",
       "      <td>-0.01499</td>\n",
       "      <td>-0.14437</td>\n",
       "      <td>-1.25290</td>\n",
       "      <td>-0.58432</td>\n",
       "      <td>-0.090523</td>\n",
       "      <td>0.93692</td>\n",
       "      <td>1.07490</td>\n",
       "      <td>0.79117</td>\n",
       "    </tr>\n",
       "  </tbody>\n",
       "</table>\n",
       "</div>"
      ],
      "text/plain": [
       "   time  label  feature1  feature2  feature3  feature4  feature5  feature6  \\\n",
       "0     0      0 -0.440500 -0.035066 -0.025341 -0.029775  -0.55787  -0.15355   \n",
       "1     1      0  0.015579 -0.846080  0.487530  0.651930   0.20099  -0.11238   \n",
       "2    34      2  0.446490  1.641000 -1.745000  0.317950  -1.14060   0.36560   \n",
       "3     9      0  0.629460 -0.615750 -0.323450 -0.900200   0.45360  -0.61992   \n",
       "4     2      0  1.249800 -0.185610 -0.183780 -0.981080  -0.01499  -0.14437   \n",
       "\n",
       "   feature7  feature8  feature9  feature10  feature11  feature12  \n",
       "0   0.56819  -0.15432 -0.250230    0.33915    0.70388    0.28174  \n",
       "1  -1.39630  -0.18874 -0.300010   -0.24032   -0.38533   -1.02450  \n",
       "2   0.28110  -0.58253 -1.690700    1.20220   -0.51920    1.78400  \n",
       "3   2.16240   0.19875 -1.119600   -2.73210   -0.25673   -0.81836  \n",
       "4  -1.25290  -0.58432 -0.090523    0.93692    1.07490    0.79117  "
      ]
     },
     "execution_count": 4,
     "metadata": {},
     "output_type": "execute_result"
    }
   ],
   "source": [
    "url = 'https://raw.githubusercontent.com/chl8856/DeepHit/master/sample%20data/SYNTHETIC/synthetic_comprisk.csv'\n",
    "dataset = pd.read_csv(url)\n",
    "dataset.drop(['true_time', 'true_label'], axis=1, inplace=True)\n",
    "dataset.head()"
   ]
  },
  {
   "cell_type": "code",
   "execution_count": 31,
   "metadata": {},
   "outputs": [
    {
     "name": "stdout",
     "output_type": "stream",
     "text": [
      "0        0\n",
      "1        0\n",
      "2        1\n",
      "3        0\n",
      "4        0\n",
      "        ..\n",
      "29995    1\n",
      "29996    1\n",
      "29997    0\n",
      "29998    0\n",
      "29999    0\n",
      "Name: label, Length: 30000, dtype: int64\n"
     ]
    }
   ],
   "source": [
    "# Change values of outcome\n",
    "print(dataset['label'])\n",
    "dataset['label'].replace({2:1}, inplace=True)\n",
    "# print(dataset['label'])"
   ]
  },
  {
   "cell_type": "markdown",
   "metadata": {},
   "source": [
    "##### Train - test - validation split\n"
   ]
  },
  {
   "cell_type": "code",
   "execution_count": 6,
   "metadata": {},
   "outputs": [],
   "source": [
    "get_x = lambda df: (df\n",
    "                    .drop(columns=['time', 'label'])\n",
    "                    .values.astype('float32'))\n",
    "\n",
    "df_test = dataset.sample(frac=0.2)\n",
    "df_train = dataset.drop(df_test.index)\n",
    "# df_val = df_train.sample(frac=0.2)\n",
    "# df_train = df_train.drop(df_val.index)\n",
    "\n",
    "X_train = get_x(df_train)\n",
    "X_test = get_x(df_test)\n",
    "\n",
    "Y_train = df_train[['label', 'time']].to_numpy()\n",
    "Y_test = df_test[['label', 'time']].to_numpy()\n"
   ]
  },
  {
   "cell_type": "code",
   "execution_count": 7,
   "metadata": {},
   "outputs": [],
   "source": [
    "D_in, H, D_out = X_train.shape[1], 3, 5    # D_out 32 ?\n",
    "batch_size = 32\n",
    "num_time_units = 10 # 24 month?\n",
    "time_bin = 30   # 30?\n",
    "n_epochs = 1\n",
    "learning_rate = 1e-3\n"
   ]
  },
  {
   "cell_type": "code",
   "execution_count": 8,
   "metadata": {},
   "outputs": [],
   "source": [
    "# scaler = MinMaxScaler()\n",
    "# X_train = scaler.fit_transform(X_train)\n",
    "# X_test = scaler.transform(X_test)\n",
    "# X_train, y_train, E_train = np.array(X_train), np.array(y_train), np.array(E_train)\n",
    "# X_test, y_test, E_test = np.array(X_test), np.array(y_test), np.array(E_test)\n",
    "train_dataset = TensorDataset(torch.from_numpy(X_train).float().to(device), torch.from_numpy(Y_train[:,1]).float().to(device), torch.from_numpy(Y_train[:,0]).float().to(device))\n",
    "test_dataset = TensorDataset(torch.from_numpy(X_test).float().to(device), torch.from_numpy(Y_test[:,1]).float().to(device), torch.from_numpy(Y_test[:,0]).float().to(device))"
   ]
  },
  {
   "cell_type": "code",
   "execution_count": 25,
   "metadata": {},
   "outputs": [],
   "source": [
    "\n",
    "class Net_regular(nn.Module):\n",
    "    def __init__(self, n_feature, num_layers, node, dropout, drop_factor = 1):\n",
    "        super(Net_regular, self).__init__()\n",
    "        # input layer\n",
    "        layers = [nn.Linear(n_feature, node),\n",
    "                  nn.BatchNorm1d(node),\n",
    "                  nn.ReLU()]\n",
    "        # hidden layers\n",
    "        node_temp = node\n",
    "        for i in range(0, num_layers):\n",
    "            node_temp0 = max(4, int(node_temp / (drop_factor**i)))\n",
    "            node_temp1 = max(4, int(node_temp0 / drop_factor))\n",
    "            layers += [nn.Linear(node_temp0, node_temp1),\n",
    "                       nn.BatchNorm1d(node_temp1),\n",
    "                       nn.ReLU(),\n",
    "                       nn.Dropout(p=dropout)]\n",
    "        layers += [nn.ReLU()]\n",
    "        # output layer\n",
    "        layers += [nn.Linear(node_temp1, 1)]\n",
    "        self.seq = nn.Sequential(*layers) \n",
    "\n",
    "    def forward(self, inputs):\n",
    "        return self.seq(inputs)\n",
    "    "
   ]
  },
  {
   "cell_type": "markdown",
   "metadata": {},
   "source": [
    "##### Function for C-index"
   ]
  },
  {
   "cell_type": "code",
   "execution_count": 10,
   "metadata": {},
   "outputs": [],
   "source": [
    "def onePair(x0, x1):\n",
    "    c = np.log(2.)\n",
    "    m = nn.LogSigmoid() \n",
    "    return 1 + m(x1-x0) / c\n",
    "  \n",
    "def rank_loss(pred, obs, delta):\n",
    "    N = pred.size(0)\n",
    "    allPairs = onePair(pred.view(N,1), pred.view(1,N))\n",
    "\n",
    "    temp0 = obs.view(1, N) - obs.view(N, 1)\n",
    "    # indices based on obs time\n",
    "    temp1 = temp0>0\n",
    "    # indices of event-event or event-censor pair\n",
    "    temp2 = delta.view(1, N) + delta.view(N, 1)\n",
    "    temp3 = temp2>0\n",
    "    # indices of events\n",
    "    temp4 = delta.view(N, 1) * torch.ones(1, N, device = device)\n",
    "    # selected indices\n",
    "    final_ind = temp1 * temp3 * temp4\n",
    "    out = allPairs * final_ind\n",
    "    return out.sum() / final_ind.sum()\n",
    "\n",
    "def mse_loss(pred,  obs, delta):\n",
    "    mse = delta*((pred - obs) ** 2)\n",
    "\n",
    "    ind = pred < obs\n",
    "    delta0 = 1 - delta\n",
    "    p = ind * delta0 * (obs - pred)**2 \n",
    "    return mse.mean(), p.mean()"
   ]
  },
  {
   "cell_type": "code",
   "execution_count": 11,
   "metadata": {},
   "outputs": [],
   "source": [
    "# model = survdl(D_in, H, D_out, num_time_units).to(device)\n",
    "\n",
    "# optimizer = optim.Adam(model.parameters(), lr = learning_rate)\n"
   ]
  },
  {
   "cell_type": "markdown",
   "metadata": {},
   "source": [
    "##### Training and evaluating"
   ]
  },
  {
   "cell_type": "code",
   "execution_count": 29,
   "metadata": {},
   "outputs": [],
   "source": [
    "lambda1 = 1\n",
    "lambda2 = 0.2\n",
    "torch.manual_seed(1)\n",
    "\n",
    "train_loader = DataLoader(dataset=train_dataset, batch_size=batch_size, shuffle=True, drop_last=True)\n",
    "test_loader = DataLoader(dataset=test_dataset, batch_size=len(test_dataset))\n",
    "\n",
    "# model = survdl( D_in, H, D_out, num_time_units)\n",
    "model = Net_regular(n_feature=D_in, num_layers = 1, node=128, dropout=0.5)\n",
    "model.to(device)\n",
    "\n",
    "optimizer = optim.Adam(model.parameters(), lr=0.001,weight_decay=1e-8)\n",
    "\n",
    "# Trianing\n",
    "epoch_loss_train = []\n",
    "for e in range(1, n_epochs+1):\n",
    "    model.train()\n",
    "    for X_train_batch, y_train_batch, E_train_batch in train_loader:\n",
    "        optimizer.zero_grad()\n",
    "\n",
    "        y_train_pred = model(X_train_batch)\n",
    "        mseloss, penaltyloss = mse_loss(y_train_pred, y_train_batch.unsqueeze(1), E_train_batch.unsqueeze(1))\n",
    "        rankloss = rank_loss(y_train_pred, y_train_batch.unsqueeze(1), E_train_batch.unsqueeze(1))\n",
    "        train_loss = mseloss + lambda1*penaltyloss - lambda2*rankloss\n",
    "\n",
    "        train_loss.backward()\n",
    "        optimizer.step()\n",
    "\n",
    "# Predicting train\n",
    "train_loader1 = DataLoader(dataset=train_dataset, batch_size=len(train_dataset))\n",
    "y_pred_list0 = []\n",
    "with torch.no_grad():\n",
    "    model.eval()\n",
    "    for X_batch, y_batch, E_batch in train_loader1:\n",
    "        X_batch = X_batch.to(device)\n",
    "        y_test_pred = model(X_batch)\n",
    "        y_pred_list0.append(y_test_pred.cpu().numpy())\n",
    "y_pred_list0 = [a.squeeze().tolist() for a in y_pred_list0]\n",
    "y_pred_list0 = sum(y_pred_list0, [])\n",
    "\n",
    "# Predicting test\n",
    "with torch.no_grad():\n",
    "    model.train() \n",
    "    result = []\n",
    "    for _ in range(100):   #T \n",
    "        y_pred_list = [] \n",
    "        for X_batch, y_batch, E_batch in test_loader:\n",
    "            y_test_pred = model(X_batch)\n",
    "            y_pred_list.append(y_test_pred.cpu().numpy())\n",
    "            y_pred_list = [a.squeeze().tolist() for a in y_pred_list]\n",
    "            y_pred_list = sum(y_pred_list, [])\n",
    "        result.append(y_pred_list)\n",
    "\n",
    "    result = np.array(result)\n",
    "    y_test_pred_mean = result.mean(axis=0).reshape(-1,)\n",
    "    y_test_pred_sd = result.std(axis=0).reshape(-1,)\n",
    "    y_pred_list_upper = y_test_pred_mean + 1.96*y_test_pred_sd\n",
    "    y_pred_list_lower = y_test_pred_mean - 1.96*y_test_pred_sd\n"
   ]
  },
  {
   "cell_type": "code",
   "execution_count": 30,
   "metadata": {},
   "outputs": [
    {
     "name": "stdout",
     "output_type": "stream",
     "text": [
      "Train C-index:  0.7289589468440526\n",
      "Test C-index:  0.7216766462628683\n"
     ]
    }
   ],
   "source": [
    "import lifelines\n",
    "\n",
    "print(\"Train C-index: \", lifelines.utils.concordance_index(Y_train[:,1], \n",
    "                                                           np.exp(y_pred_list0),\n",
    "                                                           Y_train[:,0]))\n",
    "print(\"Test C-index: \", lifelines.utils.concordance_index(Y_test[:,1], \n",
    "                                                          np.exp(y_pred_list),\n",
    "                                                          Y_test[:,0]))\n",
    "# print(\"\")\n",
    "# print(\"Train MSE: \", mean_squared_error(np.log(train_df[\"FT\"]), y_train_pred))\n",
    "# print(\"Test MSE: \", mean_squared_error(np.log(test_df[\"FT\"]), y_test_pred))"
   ]
  },
  {
   "cell_type": "code",
   "execution_count": 21,
   "metadata": {},
   "outputs": [
    {
     "data": {
      "text/plain": [
       "6000"
      ]
     },
     "execution_count": 21,
     "metadata": {},
     "output_type": "execute_result"
    }
   ],
   "source": [
    "len(y_pred_list)"
   ]
  },
  {
   "cell_type": "code",
   "execution_count": null,
   "metadata": {},
   "outputs": [],
   "source": [
    "!pip install lifelines\n"
   ]
  },
  {
   "cell_type": "code",
   "execution_count": null,
   "metadata": {},
   "outputs": [],
   "source": []
  }
 ],
 "metadata": {
  "interpreter": {
   "hash": "9e2b3cd2829f09aa4cbce26e91031c8f0c76a211d73914c4bed7f6ce2202e3c6"
  },
  "kernelspec": {
   "display_name": "Python 3",
   "language": "python",
   "name": "python3"
  },
  "language_info": {
   "codemirror_mode": {
    "name": "ipython",
    "version": 3
   },
   "file_extension": ".py",
   "mimetype": "text/x-python",
   "name": "python",
   "nbconvert_exporter": "python",
   "pygments_lexer": "ipython3",
   "version": "3.6.9"
  }
 },
 "nbformat": 4,
 "nbformat_minor": 4
}
